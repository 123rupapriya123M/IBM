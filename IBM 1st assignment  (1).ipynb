{
 "cells": [
  {
   "cell_type": "markdown",
   "id": "ac69b83c-2498-47b7-9d4e-c02fb4097bd4",
   "metadata": {},
   "source": [
    "# Title"
   ]
  },
  {
   "cell_type": "markdown",
   "id": "45a5c5c9-8337-4be6-8eb3-dfc28d649fb2",
   "metadata": {},
   "source": [
    "## This is an introductory sentence\n",
    "Hi, My name is Rupa.\n",
    "This is my first assignment!"
   ]
  },
  {
   "cell_type": "code",
   "execution_count": 12,
   "id": "4ebca5f7-6c41-400b-934f-de56313a1860",
   "metadata": {},
   "outputs": [],
   "source": [
    "### List of data science languages\n"
   ]
  },
  {
   "cell_type": "markdown",
   "id": "3aad4c6a-db02-43bd-8c92-9025efa38571",
   "metadata": {},
   "source": [
    "This is an introductory sentence followed by an ordered list of data science languages:\n",
    "\n",
    "1. Python\n",
    "2. R\n",
    "3. SQL\n",
    "4. Java\n",
    "5. JavaScript\n",
    "6. C++\n"
   ]
  },
  {
   "cell_type": "markdown",
   "id": "aaf27a6f-c01d-4a35-9e34-dafca032ecfb",
   "metadata": {},
   "source": [
    "\n",
    "### List of data science libraries:\n",
    "   - NumPy\n",
    "   - pandas\n",
    "   - matplotlib\n",
    "   - seaborn\n",
    "   - TensorFlow\n",
    "\n",
    "   "
   ]
  },
  {
   "cell_type": "markdown",
   "id": "50955bef-5126-42ee-a98b-74ff40c06c88",
   "metadata": {},
   "source": [
    "### Table of Data Science tools:\n",
    "\n",
    "| Tool        | Description                   |\n",
    "|-------------|-------------------------------|\n",
    "| Python      | Programming language          |\n",
    "| R           | Statistical computing         |\n",
    "| Jupyter     | Interactive notebooks         |\n",
    "| TensorFlow  | Machine learning framework    |\n",
    "| PyTorch     | Deep learning library         |"
   ]
  },
  {
   "cell_type": "markdown",
   "id": "6386599a-f1b2-455c-afec-c6ad75d7df6a",
   "metadata": {},
   "source": [
    "### Here are some examples of arithmetic expressions:\n",
    "\n",
    "- Addition: ( 2 + 3 = 5 )\n",
    "- Subtraction: ( 8 - 4 = 4 )\n",
    "- Multiplication: ( 5*4 = 20 )\n",
    "- Division: ( 10/2 = 5 )"
   ]
  },
  {
   "cell_type": "code",
   "execution_count": 13,
   "id": "46639249-de84-493c-8df1-8bc63d0ad182",
   "metadata": {},
   "outputs": [
    {
     "name": "stdout",
     "output_type": "stream",
     "text": [
      "Multiplication result: 15\n",
      "17\n"
     ]
    }
   ],
   "source": [
    "# Multiply two numbers\n",
    "num1 = 5\n",
    "num2 = 3\n",
    "result_multiply = num1 * num2\n",
    "print(f\"Multiplication result: {result_multiply}\")\n",
    "\n",
    "# Add two numbers\n",
    "num3 = 10\n",
    "num4 = 7\n",
    "result_add = num3 + num4\n",
    "print(result_add)\n"
   ]
  },
  {
   "cell_type": "code",
   "execution_count": 14,
   "id": "a9869555-e4c3-4687-9059-b52c50185327",
   "metadata": {},
   "outputs": [
    {
     "name": "stdout",
     "output_type": "stream",
     "text": [
      "2.5\n"
     ]
    }
   ],
   "source": [
    "# Convert minutes to hours\n",
    "minutes = 150\n",
    "hours = minutes / 60\n",
    "print(hours)\n"
   ]
  },
  {
   "cell_type": "markdown",
   "id": "c7b95123-c3c2-4cf9-9790-4c811cbebe2e",
   "metadata": {},
   "source": [
    "### Here are the objectives for this exercise:\n",
    "\n",
    "- Learn how to create markdown cells in Jupyter Notebook.\n",
    "- Practice formatting text using markdown syntax.\n",
    "- Understand how to use markdown for documentation.\n"
   ]
  },
  {
   "cell_type": "markdown",
   "id": "29863776-8d25-4bad-9e98-3b79fd1ee6da",
   "metadata": {},
   "source": [
    "**Author's Name:** Rupa Priya Maddherla\n"
   ]
  },
  {
   "cell_type": "code",
   "execution_count": null,
   "id": "9b91ffcf-b2ca-495e-b698-1880c4cd14a3",
   "metadata": {},
   "outputs": [],
   "source": []
  }
 ],
 "metadata": {
  "kernelspec": {
   "display_name": "Python 3 (ipykernel)",
   "language": "python",
   "name": "python3"
  },
  "language_info": {
   "codemirror_mode": {
    "name": "ipython",
    "version": 3
   },
   "file_extension": ".py",
   "mimetype": "text/x-python",
   "name": "python",
   "nbconvert_exporter": "python",
   "pygments_lexer": "ipython3",
   "version": "3.12.4"
  }
 },
 "nbformat": 4,
 "nbformat_minor": 5
}
