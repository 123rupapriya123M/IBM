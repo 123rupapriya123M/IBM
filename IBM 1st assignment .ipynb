{
 "cells": [
  {
   "cell_type": "markdown",
   "id": "ac69b83c-2498-47b7-9d4e-c02fb4097bd4",
   "metadata": {},
   "source": [
    "# Title"
   ]
  },
  {
   "cell_type": "code",
   "execution_count": 2,
   "id": "507a52ab-130f-4c71-9159-b93c351dafe2",
   "metadata": {},
   "outputs": [
    {
     "ename": "SyntaxError",
     "evalue": "invalid syntax (730271338.py, line 2)",
     "output_type": "error",
     "traceback": [
      "\u001b[1;36m  Cell \u001b[1;32mIn[2], line 2\u001b[1;36m\u001b[0m\n\u001b[1;33m    Hi, My name is Rupa.\u001b[0m\n\u001b[1;37m           ^\u001b[0m\n\u001b[1;31mSyntaxError\u001b[0m\u001b[1;31m:\u001b[0m invalid syntax\n"
     ]
    }
   ],
   "source": [
    "## This is an introductory sentence\n",
    "Hi, My name is Rupa.\n",
    "This is my first assignment!"
   ]
  },
  {
   "cell_type": "code",
   "execution_count": 3,
   "id": "4ebca5f7-6c41-400b-934f-de56313a1860",
   "metadata": {},
   "outputs": [],
   "source": [
    "### List of data science languages\n"
   ]
  },
  {
   "cell_type": "code",
   "execution_count": 4,
   "id": "890cd397-e8de-4118-b4de-634a80a9d4f4",
   "metadata": {},
   "outputs": [
    {
     "ename": "SyntaxError",
     "evalue": "invalid syntax (2826046599.py, line 1)",
     "output_type": "error",
     "traceback": [
      "\u001b[1;36m  Cell \u001b[1;32mIn[4], line 1\u001b[1;36m\u001b[0m\n\u001b[1;33m    This is an introductory sentence followed by an ordered list of data science languages:\u001b[0m\n\u001b[1;37m               ^\u001b[0m\n\u001b[1;31mSyntaxError\u001b[0m\u001b[1;31m:\u001b[0m invalid syntax\n"
     ]
    }
   ],
   "source": [
    "This is an introductory sentence followed by an ordered list of data science languages:\n",
    "\n",
    "1. Python\n",
    "2. R\n",
    "3. SQL\n",
    "4. Java\n",
    "5. JavaScript\n",
    "6. C++\n"
   ]
  },
  {
   "cell_type": "code",
   "execution_count": 5,
   "id": "fece61aa-e96c-47ed-96b1-96f8b5ee5687",
   "metadata": {},
   "outputs": [
    {
     "ename": "IndentationError",
     "evalue": "unexpected indent (2771347109.py, line 2)",
     "output_type": "error",
     "traceback": [
      "\u001b[1;36m  Cell \u001b[1;32mIn[5], line 2\u001b[1;36m\u001b[0m\n\u001b[1;33m    - NumPy\u001b[0m\n\u001b[1;37m    ^\u001b[0m\n\u001b[1;31mIndentationError\u001b[0m\u001b[1;31m:\u001b[0m unexpected indent\n"
     ]
    }
   ],
   "source": [
    "\n",
    "### List of data science libraries:\n",
    "   - NumPy\n",
    "   - pandas\n",
    "   - matplotlib\n",
    "   - seaborn\n",
    "   - TensorFlow\n",
    "\n",
    "   "
   ]
  },
  {
   "cell_type": "code",
   "execution_count": 6,
   "id": "01427822-68f7-4ba7-963c-e0997ee4e2cb",
   "metadata": {},
   "outputs": [
    {
     "ename": "SyntaxError",
     "evalue": "invalid syntax (550559124.py, line 3)",
     "output_type": "error",
     "traceback": [
      "\u001b[1;36m  Cell \u001b[1;32mIn[6], line 3\u001b[1;36m\u001b[0m\n\u001b[1;33m    | Tool        | Description                   |\u001b[0m\n\u001b[1;37m    ^\u001b[0m\n\u001b[1;31mSyntaxError\u001b[0m\u001b[1;31m:\u001b[0m invalid syntax\n"
     ]
    }
   ],
   "source": [
    "### Table of Data Science tools:\n",
    "\n",
    "| Tool        | Description                   |\n",
    "|-------------|-------------------------------|\n",
    "| Python      | Programming language          |\n",
    "| R           | Statistical computing         |\n",
    "| Jupyter     | Interactive notebooks         |\n",
    "| TensorFlow  | Machine learning framework    |\n",
    "| PyTorch     | Deep learning library         |"
   ]
  },
  {
   "cell_type": "code",
   "execution_count": 7,
   "id": "1919045f-3d95-4a57-8d94-7235baade9b2",
   "metadata": {},
   "outputs": [
    {
     "ename": "SyntaxError",
     "evalue": "cannot assign to expression here. Maybe you meant '==' instead of '='? (2977150266.py, line 3)",
     "output_type": "error",
     "traceback": [
      "\u001b[1;36m  Cell \u001b[1;32mIn[7], line 3\u001b[1;36m\u001b[0m\n\u001b[1;33m    - Addition: ( 2 + 3 = 5 )\u001b[0m\n\u001b[1;37m                  ^\u001b[0m\n\u001b[1;31mSyntaxError\u001b[0m\u001b[1;31m:\u001b[0m cannot assign to expression here. Maybe you meant '==' instead of '='?\n"
     ]
    }
   ],
   "source": [
    "### Here are some examples of arithmetic expressions:\n",
    "\n",
    "- Addition: ( 2 + 3 = 5 )\n",
    "- Subtraction: ( 8 - 4 = 4 )\n",
    "- Multiplication: ( 5*4 = 20 )\n",
    "- Division: ( 10/2 = 5 )"
   ]
  },
  {
   "cell_type": "code",
   "execution_count": 8,
   "id": "46639249-de84-493c-8df1-8bc63d0ad182",
   "metadata": {},
   "outputs": [
    {
     "name": "stdout",
     "output_type": "stream",
     "text": [
      "Multiplication result: 15\n",
      "17\n"
     ]
    }
   ],
   "source": [
    "# Multiply two numbers\n",
    "num1 = 5\n",
    "num2 = 3\n",
    "result_multiply = num1 * num2\n",
    "print(f\"Multiplication result: {result_multiply}\")\n",
    "\n",
    "# Add two numbers\n",
    "num3 = 10\n",
    "num4 = 7\n",
    "result_add = num3 + num4\n",
    "print(result_add)\n"
   ]
  },
  {
   "cell_type": "code",
   "execution_count": null,
   "id": "a9869555-e4c3-4687-9059-b52c50185327",
   "metadata": {},
   "outputs": [],
   "source": []
  }
 ],
 "metadata": {
  "kernelspec": {
   "display_name": "Python 3 (ipykernel)",
   "language": "python",
   "name": "python3"
  },
  "language_info": {
   "codemirror_mode": {
    "name": "ipython",
    "version": 3
   },
   "file_extension": ".py",
   "mimetype": "text/x-python",
   "name": "python",
   "nbconvert_exporter": "python",
   "pygments_lexer": "ipython3",
   "version": "3.12.4"
  }
 },
 "nbformat": 4,
 "nbformat_minor": 5
}
